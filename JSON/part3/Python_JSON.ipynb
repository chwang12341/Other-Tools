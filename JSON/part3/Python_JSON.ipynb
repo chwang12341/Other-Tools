{
 "cells": [
  {
   "cell_type": "markdown",
   "metadata": {},
   "source": [
    "# JSON 檔案或字符串 轉 Python字典"
   ]
  },
  {
   "cell_type": "markdown",
   "metadata": {},
   "source": [
    "## 從JSON檔中導入"
   ]
  },
  {
   "cell_type": "code",
   "execution_count": 11,
   "metadata": {},
   "outputs": [
    {
     "name": "stdout",
     "output_type": "stream",
     "text": [
      "Python Dict:  {'Student 1': {'Student_id': 126, 'Name': 'Jack', 'Score': 99, 'Friends': ['Tim', 'Jen', 'Ken']}, 'Student 2': {'Student_id': 128, 'Name': 'Ken', 'Score': 99, 'Friends': ['Jack', 'Jessy', 'Cathy']}}\n",
      "Type:  <class 'dict'>\n"
     ]
    }
   ],
   "source": [
    "import json\n",
    "\n",
    "## 讀取JSON檔\n",
    "with open('test.json', 'r') as f:\n",
    "    ## 轉成Python Dict\n",
    "    python_dict = json.load(fp = f)\n",
    "    \n",
    "print(\"Python Dict: \", python_dict)\n",
    "print(\"Type: \", type(python_dict))"
   ]
  },
  {
   "cell_type": "code",
   "execution_count": 12,
   "metadata": {},
   "outputs": [
    {
     "name": "stdout",
     "output_type": "stream",
     "text": [
      "JSON Format:  {\n",
      "    \"Student 1\": {\n",
      "        \"Student_id\": 126,\n",
      "        \"Name\": \"Jack\",\n",
      "        \"Score\": 99,\n",
      "        \"Friends\": [\"Tim\", \"Jen\", \"Ken\"]\n",
      "    },\n",
      "\n",
      "    \"Student 2\": {\n",
      "        \"Student_id\": 128,\n",
      "        \"Name\": \"Ken\",\n",
      "        \"Score\": 99,\n",
      "        \"Friends\": [\"Jack\", \"Jessy\", \"Cathy\"]\n",
      "    }\n",
      "}\n",
      "\n",
      "Type:  <class 'str'>\n",
      "From JSON String Transform To Python Dict\n",
      "Python Dict:  {'Student 1': {'Student_id': 126, 'Name': 'Jack', 'Score': 99, 'Friends': ['Tim', 'Jen', 'Ken']}, 'Student 2': {'Student_id': 128, 'Name': 'Ken', 'Score': 99, 'Friends': ['Jack', 'Jessy', 'Cathy']}}\n",
      "Type:  <class 'dict'>\n"
     ]
    }
   ],
   "source": [
    "import json\n",
    "\n",
    "## 讀取JSON檔\n",
    "with open('test.json', 'r') as f:\n",
    "    ## 將內容裝進text\n",
    "    text = f.read()\n",
    "    \n",
    "print(\"JSON Format: \", text)\n",
    "print(\"Type: \", type(text))\n",
    "print(\"From JSON String Transform To Python Dict\")\n",
    "print(\"Python Dict: \", json.loads(text))\n",
    "print(\"Type: \", type(json.loads(text)))"
   ]
  },
  {
   "cell_type": "markdown",
   "metadata": {},
   "source": [
    "## 有一筆JSON Format的字符串 轉 Python Dict"
   ]
  },
  {
   "cell_type": "code",
   "execution_count": 16,
   "metadata": {},
   "outputs": [
    {
     "name": "stdout",
     "output_type": "stream",
     "text": [
      "JSON Format:  {\"Name\":\"Jack\", \"Score\": 99}\n",
      "Type: <class 'str'>\n",
      "From JSON String Transform To Python Dict\n",
      "Python Dict:  {'Name': 'Jack', 'Score': 99}\n",
      "Type:  <class 'dict'>\n"
     ]
    }
   ],
   "source": [
    "import json\n",
    "\n",
    "## JSON Format的字符串\n",
    "text = '{\"Name\":\"Jack\", \"Score\": 99}'\n",
    "\n",
    "print(\"JSON Format: \", text)\n",
    "print(\"Type:\", type(text))\n",
    "print(\"From JSON String Transform To Python Dict\")\n",
    "print(\"Python Dict: \", json.loads(text))\n",
    "print(\"Type: \", type(json.loads(text)))"
   ]
  },
  {
   "cell_type": "markdown",
   "metadata": {},
   "source": [
    "# Python 字典(Dict) 轉 JSON字符串"
   ]
  },
  {
   "cell_type": "markdown",
   "metadata": {},
   "source": [
    "## 寫入到JSON檔"
   ]
  },
  {
   "cell_type": "code",
   "execution_count": 21,
   "metadata": {},
   "outputs": [],
   "source": [
    "import json\n",
    "\n",
    "## Python 字典\n",
    "python_dict = {\n",
    "    'Name': \"Jack\",\n",
    "    'Score': 99\n",
    "}\n",
    "\n",
    "## 存成JSON File\n",
    "with open(\"python2json.json\", 'w') as f:\n",
    "    json.dump(python_dict, f)  "
   ]
  },
  {
   "cell_type": "code",
   "execution_count": 27,
   "metadata": {},
   "outputs": [
    {
     "name": "stdout",
     "output_type": "stream",
     "text": [
      "Python Dict:  {'Name': 'Jack', 'Score': 99}\n",
      "Type:  <class 'dict'>\n",
      "From Python Dict Transform To JSON Format\n",
      "JSON Format:  {\"Name\": \"Jack\", \"Score\": 99}\n",
      "Type:  <class 'str'>\n"
     ]
    }
   ],
   "source": [
    "import json\n",
    "\n",
    "## Python 字典\n",
    "python_dict = {\n",
    "    'Name': \"Jack\",\n",
    "    \"Score\": 99,\n",
    "}\n",
    "print(\"Python Dict: \", python_dict)\n",
    "print(\"Type: \", type(python_dict))\n",
    "print(\"From Python Dict Transform To JSON Format\")\n",
    "print(\"JSON Format: \", json.dumps(python_dict))\n",
    "print(\"Type: \", type(json.dumps(python_dict)))\n",
    "\n",
    "## 存成JSON File\n",
    "with open('python2json1.json', 'w') as f:\n",
    "    f.write(json.dumps(python_dict))"
   ]
  },
  {
   "cell_type": "markdown",
   "metadata": {},
   "source": [
    "## 轉成 JSON Format的字符串"
   ]
  },
  {
   "cell_type": "code",
   "execution_count": 30,
   "metadata": {},
   "outputs": [
    {
     "name": "stdout",
     "output_type": "stream",
     "text": [
      "Python Dict:  {'Name': 'Jack', 'Score': 99}\n",
      "Type:  <class 'dict'>\n",
      "From Python Dict Transform To JSON Format\n",
      "JSON Format:  {\"Name\": \"Jack\", \"Score\": 99}\n",
      "Type:  <class 'str'>\n"
     ]
    }
   ],
   "source": [
    "import json\n",
    "\n",
    "## Python 字典\n",
    "python_dict = {\n",
    "    'Name': \"Jack\",\n",
    "    \"Score\": 99,\n",
    "}\n",
    "print(\"Python Dict: \", python_dict)\n",
    "print(\"Type: \", type(python_dict))\n",
    "print(\"From Python Dict Transform To JSON Format\")\n",
    "print(\"JSON Format: \", json.dumps(python_dict))\n",
    "print(\"Type: \", type(json.dumps(python_dict)))"
   ]
  },
  {
   "cell_type": "markdown",
   "metadata": {},
   "source": [
    "# Python 字典(Dict)中包含list 轉 JSON 字符串"
   ]
  },
  {
   "cell_type": "code",
   "execution_count": 43,
   "metadata": {},
   "outputs": [
    {
     "name": "stdout",
     "output_type": "stream",
     "text": [
      "Python Dict:  {'Student A': {'Student_id': 126, 'Name': 'Jack', 'Score': 99, 'Friends': ['Tim', 'Jen', 'Cindy']}, 'Student B': {'Student_id': 128, 'Name': 'Ken', 'Score': 98, 'Friends': ['Jack', 'Jessy', 'Cathy']}}\n",
      "Type:  <class 'dict'>\n",
      "From Python Dict Transform To JSON Format\n",
      "JSON Format:  {\"Student A\": {\"Student_id\": 126, \"Name\": \"Jack\", \"Score\": 99, \"Friends\": [\"Tim\", \"Jen\", \"Cindy\"]}, \"Student B\": {\"Student_id\": 128, \"Name\": \"Ken\", \"Score\": 98, \"Friends\": [\"Jack\", \"Jessy\", \"Cathy\"]}}\n",
      "Type:  <class 'str'>\n"
     ]
    }
   ],
   "source": [
    "import json\n",
    "\n",
    "## Python 字典\n",
    "python_dict = {\n",
    "    \"Student A\": {\n",
    "        \"Student_id\": 126,\n",
    "        \"Name\": \"Jack\",\n",
    "        \"Score\": 99,\n",
    "        \"Friends\": [\"Tim\", \"Jen\", \"Cindy\"]\n",
    "    },\n",
    "    \n",
    "    \"Student B\":{\n",
    "        \"Student_id\": 128,\n",
    "        \"Name\": \"Ken\",\n",
    "        \"Score\": 98,\n",
    "        \"Friends\": [\"Jack\", \"Jessy\", \"Cathy\"]\n",
    "    }\n",
    "}\n",
    "print(\"Python Dict: \", python_dict)\n",
    "print(\"Type: \", type(python_dict))\n",
    "print(\"From Python Dict Transform To JSON Format\")\n",
    "print(\"JSON Format: \", json.dumps(python_dict))\n",
    "print(\"Type: \", type(json.dumps(python_dict)))\n",
    "\n",
    "## 存成JSON File\n",
    "with open('python2json2.json', 'w') as f:\n",
    "    f.write(json.dumps(python_dict))"
   ]
  },
  {
   "cell_type": "markdown",
   "metadata": {},
   "source": [
    "# 重要補充: 如果寫進JSON檔，想要更易讀的格式來寫"
   ]
  },
  {
   "cell_type": "code",
   "execution_count": 49,
   "metadata": {},
   "outputs": [
    {
     "name": "stdout",
     "output_type": "stream",
     "text": [
      "Python Dict:  {'Name': 'Jack', 'Score': 99}\n",
      "Type:  <class 'dict'>\n",
      "From Python Dict Transform To JSON Format\n",
      "JSON Format:  {\"Name\": \"Jack\", \"Score\": 99}\n",
      "Type:  <class 'str'>\n"
     ]
    }
   ],
   "source": [
    "import json\n",
    "\n",
    "## Python 字典\n",
    "python_dict = {\n",
    "    'Name': \"Jack\",\n",
    "    \"Score\": 99,\n",
    "}\n",
    "print(\"Python Dict: \", python_dict)\n",
    "print(\"Type: \", type(python_dict))\n",
    "print(\"From Python Dict Transform To JSON Format\")\n",
    "print(\"JSON Format: \", json.dumps(python_dict))\n",
    "print(\"Type: \", type(json.dumps(python_dict)))\n",
    "\n",
    "## 存成JSON File\n",
    "with open('python2json3.json', 'w') as f:\n",
    "    f.write(json.dumps(python_dict, indent = 4))"
   ]
  },
  {
   "cell_type": "code",
   "execution_count": 57,
   "metadata": {},
   "outputs": [
    {
     "name": "stdout",
     "output_type": "stream",
     "text": [
      "Python Dict:  {'Student A': {'Student_id': 126, 'Name': 'Jack', 'Score': 99, 'Friends': ['Tim', 'Jen', 'Cindy']}, 'Student B': {'Student_id': 128, 'Name': 'Ken', 'Score': 98, 'Friends': ['Jack', 'Jessy', 'Cathy']}}\n",
      "Type:  <class 'dict'>\n",
      "From Python Dict Transform To JSON Format\n",
      "JSON Format:  {\"Student A\": {\"Student_id\": 126, \"Name\": \"Jack\", \"Score\": 99, \"Friends\": [\"Tim\", \"Jen\", \"Cindy\"]}, \"Student B\": {\"Student_id\": 128, \"Name\": \"Ken\", \"Score\": 98, \"Friends\": [\"Jack\", \"Jessy\", \"Cathy\"]}}\n",
      "Type:  <class 'str'>\n"
     ]
    }
   ],
   "source": [
    "import json\n",
    "\n",
    "## Python 字典\n",
    "python_dict = {\n",
    "    \"Student A\": {\n",
    "        \"Student_id\": 126,\n",
    "        \"Name\": \"Jack\",\n",
    "        \"Score\": 99,\n",
    "        \"Friends\": [\"Tim\", \"Jen\", \"Cindy\"]\n",
    "    },\n",
    "    \n",
    "    \"Student B\":{\n",
    "        \"Student_id\": 128,\n",
    "        \"Name\": \"Ken\",\n",
    "        \"Score\": 98,\n",
    "        \"Friends\": [\"Jack\", \"Jessy\", \"Cathy\"]\n",
    "    }\n",
    "}\n",
    "print(\"Python Dict: \", python_dict)\n",
    "print(\"Type: \", type(python_dict))\n",
    "print(\"From Python Dict Transform To JSON Format\")\n",
    "print(\"JSON Format: \", json.dumps(python_dict))\n",
    "print(\"Type: \", type(json.dumps(python_dict)))\n",
    "\n",
    "## 存成JSON File\n",
    "with open('python2json4.json', 'w') as f:\n",
    "    f.write(json.dumps(python_dict, indent = 4))\n",
    "    f.write('\\n')\n",
    "    "
   ]
  },
  {
   "cell_type": "code",
   "execution_count": null,
   "metadata": {},
   "outputs": [],
   "source": []
  },
  {
   "cell_type": "code",
   "execution_count": null,
   "metadata": {},
   "outputs": [],
   "source": []
  },
  {
   "cell_type": "code",
   "execution_count": null,
   "metadata": {},
   "outputs": [],
   "source": []
  }
 ],
 "metadata": {
  "kernelspec": {
   "display_name": "Python 3",
   "language": "python",
   "name": "python3"
  },
  "language_info": {
   "codemirror_mode": {
    "name": "ipython",
    "version": 3
   },
   "file_extension": ".py",
   "mimetype": "text/x-python",
   "name": "python",
   "nbconvert_exporter": "python",
   "pygments_lexer": "ipython3",
   "version": "3.7.6"
  }
 },
 "nbformat": 4,
 "nbformat_minor": 4
}
